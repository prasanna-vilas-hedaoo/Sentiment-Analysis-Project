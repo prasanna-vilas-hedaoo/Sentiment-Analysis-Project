{
 "cells": [
  {
   "cell_type": "code",
   "execution_count": 5,
   "id": "d85a2af6-2f8c-45e5-9a13-61aa934152a7",
   "metadata": {},
   "outputs": [],
   "source": [
    "import pandas as pd"
   ]
  },
  {
   "cell_type": "code",
   "execution_count": 6,
   "id": "9eff1de8-99d5-4de7-810a-e5f8d3b7a105",
   "metadata": {},
   "outputs": [],
   "source": [
    "import requests\n",
    "from bs4 import BeautifulSoup"
   ]
  },
  {
   "cell_type": "markdown",
   "id": "99cb9dcf-b24a-4109-8a12-9af9ff627169",
   "metadata": {},
   "source": [
    "beautiful soup is a python library for pulling data out of HTML and XML files.it works with your favourite parser to provide idiomatic ways of navigating searching.and modifiying the parse tree.it commonly saves programmers hours oor days of work"
   ]
  },
  {
   "cell_type": "code",
   "execution_count": 3,
   "id": "8e1dc28c-a649-48fd-a470-a50e51708184",
   "metadata": {},
   "outputs": [],
   "source": [
    "url = \"https://www.ultrahuman.com/pricing/in/?type=otp&product=uh-m1-twelve-week\""
   ]
  },
  {
   "cell_type": "markdown",
   "id": "76a43fc7-e492-42d5-af2c-def89fdd8dd8",
   "metadata": {},
   "source": [
    "one of the most common HTTP methods is GET. the get method indicates that your trying to get or retrive data from a specified resource.to make a GET request.invoke requets.get()"
   ]
  },
  {
   "cell_type": "code",
   "execution_count": 11,
   "id": "8146dfb6-fa61-4861-bd93-cff5d0065679",
   "metadata": {},
   "outputs": [],
   "source": [
    "product_name = []\n",
    "price = []\n",
    "description = []\n",
    "reviews = []\n",
    "\n",
    "for i in range(2,5):\n",
    "    url=\"https://www.ultrahuman.com/pricing/in/?type=otp&product=uh-m1-twelve-week\"\n",
    "    r=requests.get(url)\n",
    "    soup=BeautifulSoup(r.text,\"lxml\")"
   ]
  },
  {
   "cell_type": "code",
   "execution_count": 12,
   "id": "fc6ae586-24da-405a-bb85-45779cca9c04",
   "metadata": {},
   "outputs": [],
   "source": [
    "url=\"https://www.ultrahuman.com/pricing/in/?type=otp&product=uh-m1-twelve-week\"\n",
    "r=requests.get(url)"
   ]
  },
  {
   "cell_type": "code",
   "execution_count": 13,
   "id": "46a59b9b-767f-40a1-adfe-d2c4e1d6693d",
   "metadata": {},
   "outputs": [
    {
     "data": {
      "text/plain": [
       "<Response [200]>"
      ]
     },
     "execution_count": 13,
     "metadata": {},
     "output_type": "execute_result"
    }
   ],
   "source": [
    "r"
   ]
  },
  {
   "cell_type": "code",
   "execution_count": 14,
   "id": "1bdfd4ef-8312-4232-a057-e5166a5d6794",
   "metadata": {
    "scrolled": true
   },
   "outputs": [
    {
     "name": "stdout",
     "output_type": "stream",
     "text": [
      "Ultrahuman | PricingRing AIRM1 CGMHome MonitoringBlood VisionStorePartnershipsUltrahuman M1 Glucose Tracking (NFC Required) carousel arrow10101010carousel arrowBuy M1Discover a personalized way to eat better and exercise smarter using the real-time glucose biomarker.Scan based experience (NFC required)One-timeSubscription2 Weeks Trial₹7,4991 CGM SensorDelivery on purchase12 Weekssave ₹9,995₹34,9996 CGM SensorsDelivery on purchase24 Weekssave ₹24,989₹64,99912 CGM SensorsDelivery on demand52 Weekssave ₹59,975₹1,34,99926 CGM SensorsDelivery on demandBuilding for a healthier planet. For every order you place this month, Ultrahuman plants a tree where it's needed most.Free shippingFree delivery to your doorstep in 1-2 days. COD is available.Free replacements & returnsEnjoy up to two annual sensor replacements & hassle-free refunds for additional issues.24x7 supportHave a question? Chat with an M1 specialist or get a call back.Contact UsMade for all4.6 out of 5 stars from 25,000+ subscribersRead all reviewsWhat?Personalized food suggestionsDiscover foods that work for you and optimize the ones that don't. Based on unique glucose metabolism insights, identify foods that give you a stable glucose responseFuel better for your next workoutFuel better for your workouts and sports. Know if you’re under fueled, optimally fueled or over fueled for your activities. Improve performance and recoveryOptimize sleep time glucoseYour glucose levels during sleep hours affect your sleep quality and recovery. Optimize these via the nocturnal glucose insightsHave questions about buying Ultrahuman M1?Contact an M1 specialistWhy?Your glucose variations are an indicator of your metabolic fitness. Metabolism indicates your fat burning ability, energy levels, metabolic disorder risk, athletic performance and sexual health85% of all chronic diseases in the world are metabolic disorders, like diabetes, hypertension, PCOS and obesityHow?Real-time glucose monitoringTrack your real-time glucose with just a quick scan.Metabolic ScoreVisualize your metabolic fitness in real-time with the metabolic score. Learn how lifestyle changes affect your healthFood ScoreMeasure the impact of different foods on your health with the food score and get methods to optimize itFueling ScoreMaximize your sports and workout performance using the fueling score. Understand which foods and lifestyle habits help you improve performance and focus during activitiesPerformance CoachesGet personalized food and exercise guidance to improve your metabolic fitness. Our performance coaches are NSCA certified sports scientists and exercise physiologistsMetabolic NudgesGet personalised nudges and insights to improve your metabolic fitnessTrack Sleep, Stress, FastingContinuously monitor your glucose response to various lifestyle events, like sleep, stress, fasting and other eventsMetabolic VectorsOptimize your metabolic fitness along different vectors, such as focus, longevity and athleticCyborg ArmyGet access to the world’s fastest growing community of like-minded athletes, biohackers and longevity enthusiastsReal-time glucose monitoringTrack your real-time glucose with just a quick scan.Metabolic ScoreVisualize your metabolic fitness in real-time with the metabolic score. Learn how lifestyle changes affect your healthFood ScoreMeasure the impact of different foods on your health with the food score and get methods to optimize itFueling ScoreMaximize your sports and workout performance using the fueling score. Understand which foods and lifestyle habits help you improve performance and focus during activitiesPerformance CoachesGet personalized food and exercise guidance to improve your metabolic fitness. Our performance coaches are NSCA certified sports scientists and exercise physiologistsMetabolic NudgesGet personalised nudges and insights to improve your metabolic fitnessTrack Sleep, Stress, FastingContinuously monitor your glucose response to various lifestyle events, like sleep, stress, fasting and other eventsMetabolic VectorsOptimize your metabolic fitness along different vectors, such as focus, longevity and athleticCyborg ArmyGet access to the world’s fastest growing community of like-minded athletes, biohackers and longevity enthusiastsUser TestimonialsTrusted by the BestHS PrannoyIndian Badminton ChampionRobin SinghIndian Football ChampionAishwarya PissayIndian circuit and Off-road Motorcycle World ChampionNaveen John4 time winner of the Indian National Cycling ChampionshipsKieren DsouzaUltramarathon Runner and Endurance AthleteVarsha Rohit3-time National Gold Medalist SprinterKabir RachureUltra Cyclist User Reviews4.9App storeDownload on AppStore4.5Play storeDownload on PlaystoreHpatilukProud to Be CyborgVerified purchaseGenerally I never review however here would like to congratulate the #Ultrahuman team for this app and insight on health management. Rated 5 star as everything is awesome from onboarding, sensor delivery, app UI, activity classes, customer service, etc. Thanks!ApoorvSharmaThe API for your bodyVerified purchaseWhat an amazing app experience and deep insights into how your body works. This truly goes out to show how each body is different and how nutrition can have an impact on us. Strongly recommend trying it at least once. Your life will never be the same!AK_AK_AKGreat tech and even better teamVerified purchaseThis is a game-changer and has helped me understand multiple aspect of my metabolic health made me conscious about the way I eat and what I eat, also Ultrahuman team is super super responsive and helpful really loving the experience.RakannanBrilliant appVerified purchaseThe concept of using CGM to guide your training and food plan is brilliant. The app is also very well laid out.NayanavaIn love with the appVerified purchaseThis has to be the best device after Apple Watch which helps track the blood glucose levels, in turn helping maintain a healthy lifestyle by allowing me make the right food choices while staying away from the others. It has kind of become like a challenge to maintain blood glucose levels below 110 now throughout the day!! I have quit almost all foods that have added sugar.Athif HasanThe Ultrahuman Cyborg experienceRepeat purchaseUltrahuman M1 gave me a complete insight the impact every food has to my body. Did not follow any fancy diet, yet managed to educate myself around food, and built a sustainable & healthy lifestyle.Ranger3010Absolutely Amazing! Its an integrated part of my body!Verified purchaseUltrahuman sensors are easy to wear and very effective in diet control. It helps me track my calorie intake and allows me to be in absolute control of my sugar! Highly recommended for people trying to control there sugar and maintain optimal body weight.Srinath RajamThe pursuit of good healthVerified purchase...is impossible without the ability to control one’s blood glucose levels. As a nutritionist and a cycling and fitness coach, I stress food as 80% impact on health and CGM is an indispensable tool to help every individual figure out foods to eat/ avoid and in the right quantities… We all react differently to the same food so eliminating guesswork is an important aspect to overall metabolic health Keep up the great work UH, your supporting data is amazing.Show more Buy M1Discover a personalized way to eat better and exercise smarter using the real-time glucose biomarker.Scan based experience (NFC required)One-timeSubscription2 Weeks Trial₹7,4991 CGM SensorDelivery on purchase12 Weekssave ₹9,995₹34,9996 CGM SensorsDelivery on purchase24 Weekssave ₹24,989₹64,99912 CGM SensorsDelivery on demand52 Weekssave ₹59,975₹1,34,99926 CGM SensorsDelivery on demandAdd 12 Weeks Plan to cartBuilding for a healthier planet. For every order you place this month, Ultrahuman plants a tree where it's needed most.Building for a healthier planet. For every order you place this month, Ultrahuman plants a tree where it's needed most.Add 12 Weeks Plan to cartFAQDoes my device need to be NFC-enabled to pair the CGM sensor?Yes! It is essential that your phone is NFC enabled. If not, you will not be able to pair the Continuous Glucose Monitor (CGM sensor) with your phone.How long does the sensor last? Is it reusable?Each sensor lasts for 14 days. And no, they’re not reusable. Each sensor can be used only once, for a 14-day stint, after which you may replace it with a fresh one.Is there a needle in the sensor? Does a needle stay in my skin?Yes, and no. The Continuous Glucose Monitor (CGM sensor) comes with a hollow needle that is used to make a tiny incision in your skin (it doesn’t hurt more than an ant bite!), after which a thread-like filament is safely placed and remains under your skin for the period you have the sensor on.Does it hurt while putting on the sensor?Not more than an ant bite. It's normal to feel some sensation during the first day or so, as you are getting used to the sensor.If you feel pain or discomfort, contact the Ultrahuman team through our in-app chat service. We can help you decide if you need to remove the sensor altogether and re-apply a fresh one.Can I take the sensor off every night?Nope! Once applied, the sensor should not be taken off for the 14-day period unless you experience any pain or discomfort.Can I wear my sensor while bathing, swimming, or surfing?Yes, yes and yes! Your glucose sensor is water-resistant for up to 30 minutes and in depths up to 1 meter (3 feet). So you can shower, swim, and surf while wearing your sensor.Can the sensor hold up against all skin types?Yes, the sensor is compatible with all skin types. The patch used to cover the sensor is water/sweat resistant. So, the sensor stays intact. Therefore it is recommended to have a patch on at all times.Once the sensor is removed, does it bleed? No. The Ultrahuman M1 Glucose Tracking measures your glucose levels through the interstitial fluid. There is generally no bleeding while removing the sensor.Do I get access to the Ultrahuman Premium subscription along with my Ultrahuman M1 Glucose Tracking subscription?Yes. Your Ultrahuman M1 Glucose Tracking subscription comes bundled with the Ultrahuman Premium subscription—which gives you access to 1000+ hours of fitness and recovery masterclasses.What does my Ultrahuman M1 Glucose Tracking plan include?Your Ultrahuman M1 plan should include:CGM sensors (units as per the plan chosen)Three Ultrahuman hypoallergenic protective patches per CGM sensorSanitising wipesAccess to Ultrahuman digital content. That's 1000+ hours of fitness and recovery masterclassesAccess to Cyborg Army, an Ultrahuman community of 5000+ active membersAccess to live and certified Performance Coaches who can guide you along your metabolic fitness journey to help you make the best use of the platform. (Please note that no prescriptive meal/workout plans will be provided)Note: We use versions of third-party manufactured CGM sensors such as Abbott FreeStyle Libre, in their original packaging.What is ‘Delivery on Demand?’By default, we ship the CGMs in the following batches:12 Weeks6 CGMs shipped together at the time of purchase.24 Weeks12 CGMs shipped together at the time of purchase.52 WeeksBatch 1: 6 CGMs shipped together at the time of purchaseBatch 2: 10 CGMs shipped together on the 3rd monthBatch 3: 10 CGMs shipped together on the 5th monthHowever, if you prefer a different cadence, we’re happy to arrange it for you.How can I make changes to my subscription plan?It’s easy. If you’re looking to skip/delay, or pause your subscription, use this link to manage it. If you’re looking to cancel your subscription, please reach out to cyborg@ultrahuman.com.If I subscribe, when will I get my next order?Your order will be processed as soon as we receive a payment confirmation from your account. Since this is a monthly subscription, we should be able to ship you the order every 30 days. Delivery timelines are usually anywhere between 2-5 days.Ultrahuman's products and services are intended to provide general information for users to improve their metabolic fitness and general wellness. The products and services are not intended for disease management, treatment, or prevention, and should not be relied upon for any diagnostic or treatment decision. We do not intend to substitute professional medical opinion on the treatment, diagnosis, prevention or alleviation of diabetes or any other disease or disability. Always consult with a doctor or qualified healthcare professional about any health condition and/or concerns, that you may have. Please do not disregard/delay seeking professional medical advice or treatment because of information read on or accessed through our products and services.Please work with your healthcare professional during the use of the third-party continuous glucose monitoring device (CGM) if you have sensitive skin or a skin condition or have suffered a skin injury due to the use of the CGM. In case of any skin rashes, irritation, allergies or injuries as a result of use of the CGM and/or adhesive patch, please inform us and/or your healthcare professional without delay.Your cart is emptyBrowse through our products and find something for you.Back to browseProductsUltrahuman Ring AIRUltrahuman M1Ultrahuman HomeUltrahuman XUltrahuman VisionUltrahuman Blood VisionUltrahuman BlogAll ProductsCompanyAbout UsPress and NewsEnvironmentScienceBrand KitFor HealthcareFor DistributorsFor Sports TeamsFor Other Business OpportunitiesUltrahuman vs Oura3D Print Ring SizesCareersContact usEmailsupport@ultrahuman.comPhone8081-349-514Download appCopyright 2020-2023 Ultrahuman Healthcare Pvt Ltd All rights reserved.Ring AIR Terms of SaleM1 Terms of SalePrivacy PolicyTerms of UseInstant WhatsApp support Get an instant callback Star ratingThe concept of using CGM to guide your training and food plan is brilliant. The app is also very well laid out.Rakannan - user since Jul 2021Star ratingI didn't follow any fancy diet, yet managed to educate myself around food, and built a sustainable & healthy lifestyle.Athif Hasan - user since Sep 2021Star ratingUltrahuman M1 has done what meal plans and diets have failed to do; make me better without all the restrictions.Anwar Shai - user since Jun 202110% off on your first purchaseSubscribe to our WhatsApp for the latest updates and offers, and enjoy 10% off on your first purchase.Unsubscribe any time. View our Privacy Policy.Wa-Link\n"
     ]
    }
   ],
   "source": [
    "text = soup.get_text()\n",
    "\n",
    "# Print the scraped text\n",
    "print(text)"
   ]
  },
  {
   "cell_type": "code",
   "execution_count": null,
   "id": "eba9543d-2754-4e33-95e7-84daabe490bb",
   "metadata": {},
   "outputs": [],
   "source": []
  },
  {
   "cell_type": "code",
   "execution_count": null,
   "id": "ce5120b3-9e57-470a-a2d3-f8e9560f4aea",
   "metadata": {},
   "outputs": [],
   "source": []
  },
  {
   "cell_type": "code",
   "execution_count": null,
   "id": "d5f088f3-d7e5-4c42-b6b3-c1bf3fc59ef7",
   "metadata": {},
   "outputs": [],
   "source": []
  },
  {
   "cell_type": "code",
   "execution_count": null,
   "id": "bf32fe9e-13ee-4f78-8a42-fd4249162133",
   "metadata": {},
   "outputs": [],
   "source": []
  },
  {
   "cell_type": "code",
   "execution_count": null,
   "id": "b0b5a231-e083-41fb-82c9-74aa649530c6",
   "metadata": {},
   "outputs": [],
   "source": []
  }
 ],
 "metadata": {
  "kernelspec": {
   "display_name": "Python 3 (ipykernel)",
   "language": "python",
   "name": "python3"
  },
  "language_info": {
   "codemirror_mode": {
    "name": "ipython",
    "version": 3
   },
   "file_extension": ".py",
   "mimetype": "text/x-python",
   "name": "python",
   "nbconvert_exporter": "python",
   "pygments_lexer": "ipython3",
   "version": "3.11.7"
  }
 },
 "nbformat": 4,
 "nbformat_minor": 5
}
